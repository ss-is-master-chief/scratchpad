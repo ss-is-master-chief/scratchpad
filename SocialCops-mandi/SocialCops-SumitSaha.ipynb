{
 "cells": [
  {
   "cell_type": "code",
   "execution_count": null,
   "metadata": {
    "collapsed": true
   },
   "outputs": [],
   "source": [
    "import pandas as pd\n",
    "import csv\n",
    "import matplotlib.pyplot as plt\n",
    "import numpy as np\n",
    "%matplotlib inline\n",
    "from matplotlib.pylab import rcParams\n",
    "rcParams['figure.figsize'] = 15, 3"
   ]
  },
  {
   "cell_type": "markdown",
   "metadata": {},
   "source": [
    "* The CSV files are located in the root of the directory containing the iPython Notebook\n",
    "* To avoid any sort of issues realted to improper column names, some of the field names have been altered\n",
    "* The 'date' field is currently is of type 'object' and has been converted into 'datetime'"
   ]
  },
  {
   "cell_type": "code",
   "execution_count": null,
   "metadata": {
    "collapsed": true
   },
   "outputs": [],
   "source": [
    "monthly_data = pd.read_csv(\"Monthly_data_cmo.csv\")\n",
    "cmo_msp_mandi = pd.read_csv(\"CMO_MSP_Mandi.csv\")\n",
    "\n",
    "dateparse = lambda dates: pd.datetime.strptime(dates, '%Y-%m')\n",
    "monthly_data = pd.read_csv('Monthly_data_cmo.csv', parse_dates=['date'],date_parser=dateparse)"
   ]
  },
  {
   "cell_type": "code",
   "execution_count": null,
   "metadata": {
    "collapsed": true
   },
   "outputs": [],
   "source": [
    "monthly_data.head()"
   ]
  },
  {
   "cell_type": "code",
   "execution_count": null,
   "metadata": {
    "collapsed": true
   },
   "outputs": [],
   "source": [
    "ts = monthly_data.set_index('date')"
   ]
  },
  {
   "cell_type": "code",
   "execution_count": null,
   "metadata": {
    "collapsed": true
   },
   "outputs": [],
   "source": [
    "from statsmodels.tsa.stattools import adfuller\n",
    "def test_stationarity(timeseries):\n",
    "    \n",
    "    #Determing rolling statistics\n",
    "    rolmean = pd.Series.rolling(timeseries, window=12,center=False).mean()\n",
    "    rolstd = pd.Series.rolling(timeseries, window=12,center=False).std()\n",
    "\n",
    "    #Plot rolling statistics:\n",
    "    orig = plt.plot(timeseries, color='blue',label='Original')\n",
    "    mean = plt.plot(rolmean, color='red', label='Rolling Mean')\n",
    "    std = plt.plot(rolstd, color='black', label = 'Rolling Std')\n",
    "    plt.legend(loc='best')\n",
    "    plt.title('Rolling Mean & Standard Deviation')\n",
    "    plt.show(block=False)\n",
    "    \n",
    "    #Perform Dickey-Fuller test:\n",
    "    print('Results of Dickey-Fuller Test:')\n",
    "    dftest = adfuller(timeseries, autolag='AIC')\n",
    "    dfoutput = pd.Series(dftest[0:4], index=['Test Statistic','p-value','#Lags Used','Number of Observations Used'])\n",
    "    for key,value in dftest[4].items():\n",
    "        dfoutput['Critical Value (%s)'%key] = value\n",
    "    print(dfoutput)"
   ]
  },
  {
   "cell_type": "code",
   "execution_count": null,
   "metadata": {
    "collapsed": true,
    "scrolled": false
   },
   "outputs": [],
   "source": [
    "from statsmodels.tsa.seasonal import seasonal_decompose\n",
    "\n",
    "def get_season(ts_log,commodity,apmc):\n",
    "    decomposition = seasonal_decompose(ts_log.values,freq=10)\n",
    "\n",
    "    trend = decomposition.trend\n",
    "    seasonal = decomposition.seasonal\n",
    "    residual = decomposition.resid\n",
    "\n",
    "#     plt.subplot(411)\n",
    "#     plt.plot(ts_log, label='Original')\n",
    "#     plt.legend(loc='best')\n",
    "#     plt.subplot(412)\n",
    "#     plt.plot(trend, label='Trend')\n",
    "#     plt.legend(loc='best')\n",
    "#     plt.subplot(413)\n",
    "    try:\n",
    "        plt.plot(seasonal,label='{}-{}-Seasonality'.format(apmc,commodity))\n",
    "        plt.legend(loc='best')\n",
    "        plt.show()\n",
    "    except:\n",
    "        pass\n",
    "#     plt.subplot(414)\n",
    "#     plt.plot(residual, label='Residuals')\n",
    "#     plt.legend(loc='best')\n",
    "#     plt.tight_layout()\n",
    "    \n"
   ]
  },
  {
   "cell_type": "code",
   "execution_count": null,
   "metadata": {
    "collapsed": true
   },
   "outputs": [],
   "source": [
    "def sub(commodity,apmc):\n",
    "    sub_ts = ts[(ts['Commodity']==commodity) & (ts['APMC']==apmc)]\n",
    "    sub_ts = sub_ts['modal_price'].sort_index(ascending=True)\n",
    "    ts_log = np.log(sub_ts)\n",
    "    return ts_log"
   ]
  },
  {
   "cell_type": "markdown",
   "metadata": {},
   "source": [
    "## Seasonality Type\n",
    "### Note: Running for only 2 APMC centers. Please remove [ : 2] for complete output\n",
    "\n",
    "##### From the following plots we can infer that seasonality for almost all combinations of APMC and Commodity is ADDITIVE\n"
   ]
  },
  {
   "cell_type": "code",
   "execution_count": null,
   "metadata": {},
   "outputs": [],
   "source": [
    "for apmc in ts.APMC.unique()[:2]:\n",
    "    for commodity in ts.Commodity.unique():\n",
    "        try:\n",
    "            ts_log = sub(commodity,'Ahmednagar')\n",
    "            get_season(ts_log,commodity,apmc)\n",
    "        except:\n",
    "            pass\n",
    "    "
   ]
  },
  {
   "cell_type": "markdown",
   "metadata": {},
   "source": [
    "* The two CSV files represent time series data\n",
    "* We would deal with the dataframe containing only those 'years' which are present in both the datasets"
   ]
  },
  {
   "cell_type": "code",
   "execution_count": null,
   "metadata": {
    "collapsed": true
   },
   "outputs": [],
   "source": [
    "available_year_data = sorted(list(set(monthly_data['year'].unique()).intersection(set(cmo_msp_mandi['year'].unique()))))\n",
    "print(available_year_data)"
   ]
  },
  {
   "cell_type": "markdown",
   "metadata": {},
   "source": [
    "* In the following snippent, we alter the fields to represent prices per arrived quintal\n",
    "* We remove the cases where `modal_price` doesn't lie between `min_price` and `max_price`\n",
    "* `min_price` would now represent minimum price per arrived quintal i.e. `min_per_quintal`\n",
    "* `max_price` -> `max_per_qtl`\n",
    "* `modal_price` -> `mod_per_qtl`\n",
    "* The edited dataframe is called `new`"
   ]
  },
  {
   "cell_type": "code",
   "execution_count": null,
   "metadata": {
    "collapsed": true
   },
   "outputs": [],
   "source": [
    "df = monthly_data[((monthly_data['modal_price'] <= monthly_data['max_price']) & \n",
    "                 (monthly_data['modal_price'] >= monthly_data['min_price']))]\n",
    "\n",
    "new = df.drop(['state_name'],axis=1)\n",
    "\n",
    "new['min_price'] = new['min_price']/new['arrivals_in_qtl']\n",
    "new['max_price'] = new['max_price']/new['arrivals_in_qtl']\n",
    "new['modal_price'] = new['modal_price']/new['arrivals_in_qtl']\n",
    "\n",
    "new.rename(columns={'min_price':\"min_per_qtl\",},inplace=True)\n",
    "new.rename(columns={'max_price':\"max_per_qtl\",},inplace=True)\n",
    "new.rename(columns={'modal_price':\"mod_per_qtl\",},inplace=True)"
   ]
  },
  {
   "cell_type": "code",
   "execution_count": null,
   "metadata": {
    "collapsed": true
   },
   "outputs": [],
   "source": [
    "new.head()"
   ]
  },
  {
   "cell_type": "markdown",
   "metadata": {},
   "source": [
    "`get_graph()` would be used to get series plots for each commodity from a APMC cluster"
   ]
  },
  {
   "cell_type": "code",
   "execution_count": null,
   "metadata": {
    "collapsed": true
   },
   "outputs": [],
   "source": [
    "seasonal = []\n",
    "\n",
    "def enter_seasonal(commodity):\n",
    "    if commodity not in seasonal:\n",
    "        seasonal.append(commodity)\n",
    "    \n",
    "def get_graph(apmc,commodity):\n",
    "    seasonal = []\n",
    "    seas = 0\n",
    "    try:\n",
    "        x_14 = new[(new['APMC']==apmc) & (new['commodity']==commodity) & (new['year']==2014)]\n",
    "        x_14.sort_values(by='date').set_index('month').plot(stacked=True,kind=\"bar\",y=['min_per_qtl','mod_per_qtl','max_per_qtl'],figsize=[15,5],title='{}-{}-2014'.format(apmc,commodity))\n",
    "    except:\n",
    "        seas += 1\n",
    "    try:\n",
    "        x_15 = new[(new['APMC']==apmc) & (new['commodity']==commodity) & (new['year']==2015)]\n",
    "        x_15.sort_values(by='date').set_index('month').plot(stacked=True,kind=\"bar\",y=['min_per_qtl','mod_per_qtl','max_per_qtl'],figsize=[15,5],title='{}-{}-2015'.format(apmc,commodity))\n",
    "    except:\n",
    "        seas += 1\n",
    "    try:\n",
    "        x_16 = new[(new['APMC']==apmc) & (new['commodity']==commodity) & (new['year']==2016)]\n",
    "        x_16.sort_values(by='date').set_index('month').plot(stacked=True,kind=\"bar\",y=['min_per_qtl','mod_per_qtl','max_per_qtl'],figsize=[15,5],title='{}-{}-2016'.format(apmc,commodity))\n",
    "    except:\n",
    "        seas +=1\n",
    "    if(seas>1):\n",
    "        enter_seasonal(commodity)\n",
    "    "
   ]
  },
  {
   "cell_type": "code",
   "execution_count": null,
   "metadata": {
    "collapsed": true
   },
   "outputs": [],
   "source": [
    "def get_all_graphs_for_apmc(apmc):\n",
    "    for commodity in new.commodity.unique():\n",
    "        get_graph(apmc,commodity)\n",
    "    \n",
    "def get_all_graphs():\n",
    "    for apmc in new.APMC.unique():\n",
    "        for commodity in new.commodity.unique():\n",
    "            get_graph(apmc,commodity)"
   ]
  },
  {
   "cell_type": "markdown",
   "metadata": {},
   "source": [
    "* In the following example we are plotting `price per quintal` against `months` for the commodity `Bajri` in `Ahmednagar`.\n",
    "* The months in which the demand (`arrival_in_qtl`) was less, the prices per quintal were extremely high\n",
    "* The months in which the demand (`arrival_in_qtl`) was more, the prices per quintal were optimimum\n",
    "* In Sept, 2014, the `arrival_in_qtl` was low and hence the prices were increased\n",
    "* In 2015, prices skyrocketed in the order of `Feb` > `March` > `August` > `September`\n",
    "* In 2016, we witness a similar trend in skyrocketed prices `March` > `August` > `September`\n",
    "* We can roughly estimate the seasonal type to be `Additive`\n",
    "* April '15 and '16 show similar trends\n",
    "* `October` seems like a seasonal month for `Bajri`  \n",
    "-----\n",
    "* During months of inflated prices, it is not necessary that the goods will sell as likely as during the months of optimum prices\n",
    "* This may pose a financial threat to farmers and vendors, who require much more resources to grow non-season crops.\n",
    "* Eg. the vendors/farmers may receive Rs. 0.91 only from govt. against the probable mod_per_qtl of Rs. 4 - 165 for Bajri, in 2015"
   ]
  },
  {
   "cell_type": "code",
   "execution_count": null,
   "metadata": {
    "collapsed": true
   },
   "outputs": [],
   "source": [
    "get_graph('Ahmednagar','Bajri')"
   ]
  },
  {
   "cell_type": "code",
   "execution_count": null,
   "metadata": {
    "collapsed": true
   },
   "outputs": [],
   "source": [
    "h = new[(new.commodity=='Bajri') & (new.APMC=='Ahmednagar')].sort_values(by='date')\n",
    "h['arrivals_norm'] = ((h['arrivals_in_qtl'] - h['arrivals_in_qtl'].mean())/(h['arrivals_in_qtl'].max() - h['arrivals_in_qtl'].min()))\n",
    "h.sort_values(by='date').set_index('date').plot(kind=\"bar\",y=['arrivals_norm'],figsize=[20,10],title=\"Normalised arrival_in_qtl\")"
   ]
  },
  {
   "cell_type": "code",
   "execution_count": null,
   "metadata": {
    "collapsed": true
   },
   "outputs": [],
   "source": [
    "x_16 = new[ (new['APMC']=='Ahmednagar') & (new['year']==2016)]\n",
    "x_16.sort_values(by='date').set_index('month').index"
   ]
  },
  {
   "cell_type": "code",
   "execution_count": null,
   "metadata": {
    "collapsed": true
   },
   "outputs": [],
   "source": [
    "df.tail(20)"
   ]
  },
  {
   "cell_type": "code",
   "execution_count": null,
   "metadata": {
    "collapsed": true
   },
   "outputs": [],
   "source": []
  },
  {
   "cell_type": "code",
   "execution_count": null,
   "metadata": {
    "collapsed": true
   },
   "outputs": [],
   "source": []
  },
  {
   "cell_type": "code",
   "execution_count": null,
   "metadata": {
    "collapsed": true
   },
   "outputs": [],
   "source": []
  },
  {
   "cell_type": "code",
   "execution_count": null,
   "metadata": {
    "collapsed": true
   },
   "outputs": [],
   "source": []
  },
  {
   "cell_type": "code",
   "execution_count": null,
   "metadata": {
    "collapsed": true
   },
   "outputs": [],
   "source": [
    "new.commodity.unique()"
   ]
  },
  {
   "cell_type": "code",
   "execution_count": null,
   "metadata": {
    "collapsed": true
   },
   "outputs": [],
   "source": [
    "get_all_graphs_for_apmc('Ahmednagar')"
   ]
  },
  {
   "cell_type": "code",
   "execution_count": null,
   "metadata": {
    "collapsed": true
   },
   "outputs": [],
   "source": [
    "seasonal"
   ]
  },
  {
   "cell_type": "code",
   "execution_count": null,
   "metadata": {
    "collapsed": true
   },
   "outputs": [],
   "source": [
    "get_graph('Ahmednagar','Gram')"
   ]
  },
  {
   "cell_type": "code",
   "execution_count": null,
   "metadata": {
    "collapsed": true
   },
   "outputs": [],
   "source": [
    "field_names = ['year','APMC','commodity','type','msprice','min_price','max_price','modal_price']"
   ]
  },
  {
   "cell_type": "code",
   "execution_count": null,
   "metadata": {
    "collapsed": true
   },
   "outputs": [],
   "source": [
    "with open(\"cleaned_APMC.csv\",\"w+\") as file:\n",
    "    writer = csv.DictWriter(file,fieldnames=field_names)\n",
    "    writer.writeheader()    "
   ]
  },
  {
   "cell_type": "code",
   "execution_count": null,
   "metadata": {
    "collapsed": true
   },
   "outputs": [],
   "source": [
    "cmo_msp_mandi_2014 = cmo_msp_mandi[cmo_msp_mandi['year']==2014]\n",
    "cmo_msp_mandi_2015 = cmo_msp_mandi[cmo_msp_mandi['year']==2015]\n",
    "cmo_msp_mandi_2016 = cmo_msp_mandi[cmo_msp_mandi['year']==2016]\n",
    "\n",
    "monthly_data_2014 = monthly_data[monthly_data['year']==2014]\n",
    "monthly_data_2015 = monthly_data[monthly_data['year']==2015]\n",
    "monthly_data_2016 = monthly_data[monthly_data['year']==2016]"
   ]
  },
  {
   "cell_type": "code",
   "execution_count": null,
   "metadata": {
    "collapsed": true
   },
   "outputs": [],
   "source": [
    "#\n",
    "# Module to plot the Min, Max and Modal Prices of every city\n",
    "#\n",
    "\n",
    "x = np.array([0,1,2,3,4,5,6,7,8,9,10,11])\n",
    "xticks = ['January','February','March','April','May','June','July','August','September','October','November','December']\n",
    "\n",
    "def get_apmc(data):\n",
    "    return list(data.APMC.unique())\n",
    "    \n",
    "def get_df(data,apmc):\n",
    "    df_1 = monthly_data[(monthly_data['commodity']=='Bajri') & (monthly_data['APMC']==apmc) & (monthly_data['year']==2014)]\n",
    "    df_2 = monthly_data[(monthly_data['commodity']=='Bajri') & (monthly_data['APMC']==apmc) & (monthly_data['year']==2015)]\n",
    "    df_3 = monthly_data[(monthly_data['commodity']=='Bajri') & (monthly_data['APMC']==apmc) & (monthly_data['year']==2016)]\n",
    "    \n",
    "def mini(df,xticks,arr):\n",
    "    for month in xticks:\n",
    "        if month in list(df.Month.unique()):\n",
    "            arr.append(list(df.min_price[df['Month']==month])[0])\n",
    "        else:\n",
    "            arr.append(0)\n",
    "            \n",
    "def maxi(df,xticks,arr):\n",
    "    for month in xticks:\n",
    "        if month in list(df.Month.unique()):\n",
    "            arr.append(list(df.max_price[df['Month']==month])[0])\n",
    "        else:\n",
    "            arr.append(0)\n",
    "\n",
    "def modal(df,xticks,arr):\n",
    "    for month in xticks:\n",
    "        if month in list(df.Month.unique()):\n",
    "            arr.append(list(df.modal_price[df['Month']==month])[0])\n",
    "        else:\n",
    "            arr.append(0)\n",
    "\n",
    "def arrival(df,xticks,arr):\n",
    "    for month in xticks:\n",
    "        if month in list(df.Month.unique()):\n",
    "            arr.append(list(df.arrivals_in_qtl[df['Month']==month])[0])\n",
    "        else:\n",
    "            arr.append(0)\n",
    "\n",
    "apmc_list = get_apmc(monthly_data)\n",
    "\n",
    "for a in apmc_list:\n",
    "    min_val_3 = []\n",
    "    min_val_1 = []\n",
    "    min_val_2 = []\n",
    "    max_val_3 = []\n",
    "    max_val_1 = []\n",
    "    max_val_2 = []\n",
    "    modal_val_3 = []\n",
    "    modal_val_1 = []\n",
    "    modal_val_2 = []\n",
    "    arrival_1 = []\n",
    "    arrival_2 = []\n",
    "    arrival_3 = []\n",
    "\n",
    "    df_1 = monthly_data[(monthly_data['commodity']=='Bajri') & (monthly_data['APMC']==a) & (monthly_data['year']==2014)]\n",
    "    df_2 = monthly_data[(monthly_data['commodity']=='Bajri') & (monthly_data['APMC']==a) & (monthly_data['year']==2015)]\n",
    "    df_3 = monthly_data[(monthly_data['commodity']=='Bajri') & (monthly_data['APMC']==a) & (monthly_data['year']==2016)]\n",
    "\n",
    "    mini(df_1,xticks,min_val_1)\n",
    "    mini(df_2,xticks,min_val_2) \n",
    "    mini(df_3,xticks,min_val_3)\n",
    "    \n",
    "    maxi(df_1,xticks,max_val_1) \n",
    "    maxi(df_2,xticks,max_val_2) \n",
    "    maxi(df_3,xticks,max_val_3) \n",
    "    \n",
    "    modal(df_1,xticks,modal_val_1) \n",
    "    modal(df_2,xticks,modal_val_2) \n",
    "    modal(df_3,xticks,modal_val_3) \n",
    "    \n",
    "    arrival(df_1,xticks,arrival_1)\n",
    "    arrival(df_2,xticks,arrival_2)\n",
    "    arrival(df_3,xticks,arrival_3)\n",
    "    \n",
    "    plt.figure(figsize=(10,7))\n",
    "    plt.xticks(x, xticks)\n",
    "#     plt.plot(x,min_val_1,label=\"2014-Min\")\n",
    "#     plt.plot(x,min_val_2,label=\"2015-Min\")\n",
    "    plt.plot(x,min_val_3,label=\"2016-Min\")\n",
    "#     plt.plot(x,max_val_1,label=\"2014-Max\")\n",
    "#     plt.plot(x,max_val_2,label=\"2015-Max\")\n",
    "    plt.plot(x,max_val_3,label=\"2016-Max\")\n",
    "#     plt.plot(x,modal_val_1,label=\"2014-Modal\")\n",
    "#     plt.plot(x,modal_val_2,label=\"2015-Modal\")\n",
    "    plt.plot(x,modal_val_3,label=\"2016-Modal\")\n",
    "#     plt.scatter(x,arrival_1,label=\"2014-Arrival\",marker=\"x\")\n",
    "#     plt.scatter(x,arrival_2,label=\"2015-Arrival\",marker=\"+\")\n",
    "    plt.scatter(x,arrival_3,label=\"2016-Arrival\")\n",
    "    plt.legend()\n",
    "    plt.suptitle(a)\n",
    "    plt.show()"
   ]
  },
  {
   "cell_type": "code",
   "execution_count": null,
   "metadata": {
    "collapsed": true
   },
   "outputs": [],
   "source": [
    "x = np.array([0,1,2,3,4,5,6,7,8,9,10,11])\n",
    "xticks = ['January','February','March','April','May','June','July','August','September','October','November','December']\n",
    "\n",
    "def get_apmc(data):\n",
    "    return list(data.APMC.unique())\n",
    "\n",
    "apmc_list = get_apmc(monthly_data)\n",
    "\n",
    "def arrival(df,xticks,arr):\n",
    "    for month in xticks:\n",
    "        if month in list(df.Month.unique()):\n",
    "            arr.append(list(df.arrivals_in_qtl[df['Month']==month])[0])\n",
    "        else:\n",
    "            arr.append(0)\n",
    "            \n",
    "for a in apmc_list:\n",
    "    \n",
    "    df_1 = monthly_data[(monthly_data['commodity']=='Bajri') & (monthly_data['APMC']==a) & (monthly_data['year']==2014)]\n",
    "    df_2 = monthly_data[(monthly_data['commodity']=='Bajri') & (monthly_data['APMC']==a) & (monthly_data['year']==2015)]\n",
    "    df_3 = monthly_data[(monthly_data['commodity']=='Bajri') & (monthly_data['APMC']==a) & (monthly_data['year']==2016)]\n",
    "    \n",
    "    arrival_1 = []\n",
    "    arrival_2 = []\n",
    "    arrival_3 = []\n",
    "    \n",
    "    arrival(df_1,xticks,arrival_1)\n",
    "    arrival(df_2,xticks,arrival_2)\n",
    "    arrival(df_3,xticks,arrival_3)\n",
    "    \n",
    "    plt.figure(figsize=(7,7))\n",
    "    plt.xticks(x, xticks)\n",
    "    plt.scatter(x,arrival_1,label=\"2014-Arrival\",marker=\"x\")\n",
    "    plt.scatter(x,arrival_2,label=\"2015-Arrival\",marker=\"+\")\n",
    "    plt.scatter(x,arrival_3,label=\"2016-Arrival\")\n",
    "    plt.legend()\n",
    "    plt.suptitle(a)\n",
    "    plt.show()"
   ]
  },
  {
   "cell_type": "code",
   "execution_count": null,
   "metadata": {
    "collapsed": true
   },
   "outputs": [],
   "source": [
    "hello = new[(new['min_per_qtl']!=0) | (new['max_per_qtl']!=0) | (new['mod_per_qtl']!=0)]\n",
    "#hello[hello['commodity']==\"Bajri\"]\n",
    "# xy = hello[hello['APMC']==\"Akole\"]\n",
    "hello[hello['date']=='2015-04-01']\n",
    "new = hello[(hello.commodity == \"Bajri\")]\n",
    "\n",
    "new.sort_values(by='date').set_index('date').plot(stacked=True,kind=\"bar\",y=['min_per_qtl','mod_per_qtl','max_per_qtl'],figsize=[20,10])\n",
    "new.sort_values(by='date').set_index('date').plot(kind=\"bar\",y=['arrivals_in_qtl'],figsize=[20,10])"
   ]
  },
  {
   "cell_type": "code",
   "execution_count": null,
   "metadata": {
    "collapsed": true
   },
   "outputs": [],
   "source": [
    "print(new.arrivals_in_qtl.max())\n",
    "print(new.arrivals_in_qtl.min())\n",
    "print(new.arrivals_in_qtl.mean())\n",
    "\n",
    "norm_check = new\n",
    "norm_check['arrivals_in_qtl'] = (new['arrivals_in_qtl'] - new['arrivals_in_qtl'].mean())/(new['arrivals_in_qtl'].max() - new['arrivals_in_qtl'].min())\n",
    "norm_check.sort_values(by='date').set_index('date').plot(kind=\"bar\",y=['arrivals_in_qtl'],figsize=[20,10])"
   ]
  },
  {
   "cell_type": "code",
   "execution_count": null,
   "metadata": {
    "collapsed": true
   },
   "outputs": [],
   "source": [
    "norm_check.sort_values(by='date')"
   ]
  }
 ],
 "metadata": {
  "kernelspec": {
   "display_name": "Python 3",
   "language": "python",
   "name": "python3"
  },
  "language_info": {
   "codemirror_mode": {
    "name": "ipython",
    "version": 3
   },
   "file_extension": ".py",
   "mimetype": "text/x-python",
   "name": "python",
   "nbconvert_exporter": "python",
   "pygments_lexer": "ipython3",
   "version": "3.6.1"
  }
 },
 "nbformat": 4,
 "nbformat_minor": 2
}
